{
  "nbformat": 4,
  "nbformat_minor": 0,
  "metadata": {
    "colab": {
      "provenance": []
    },
    "kernelspec": {
      "name": "python3",
      "display_name": "Python 3"
    },
    "language_info": {
      "name": "python"
    }
  },
  "cells": [
    {
      "cell_type": "markdown",
      "source": [
        "1. What is Object-Oriented Programming (OOP)?\n",
        " - Object Oriented Programming is a paradigm that is based on the concept of 'object' which can contain data and codes to manipulate data.\n",
        "\n",
        "2. What is a class in OOP ?\n",
        " - A class isin Object oriented programming allows us to arrange functions in respected class and define multiple functions together.\n",
        "\n",
        "3. What is an object in OOP?\n",
        " -OOPs objects are created form templates called classes, which define the behaviour and poperties of the object they create.\n",
        "\n",
        "4. What is the difference between abstraction and encapsulation ?\n",
        " - Abstraction is hiding complex implications to simplifyy user experience and Encapsulation is deciding on unauthorized access to maintain code integrity.  \n",
        "\n",
        "5. What are dunder methods in Python ?\n",
        " - Dunder methods in python help us to cutomize the behaviour of our classes and objects. These methods have two undescroes in the end and in the begining.\n",
        "\n",
        "6. Explain the concept of inheritance in OOP ?\n",
        " - Inheritance refers to a child recieving the properties of a parent class.\n",
        "\n",
        "7. What is polymorphism in OOP?\n",
        " - Poly menas many and morphism means forms or states. Polymorphism refers to an object taking several forms depending on the method data.\n",
        "\n",
        "8. How is encapsulation achieved in Python?\n",
        " - Encapsulation is acieved in pyhton with underscores assigned to various methods. There are three types of encapsulation: Public, Protected and Private.\n",
        "\n",
        "9. What is a constructor in Python?\n",
        " - Constructors are special methods in python used to initialize a object instance in that class.\n",
        "\n",
        "10. What are class and static methods in Python?\n",
        " - A class method can be modified whereas a static method cant be accesed or modified.\n",
        "\n",
        "11. What is method overloading in Python?\n",
        " -Method overloading in Python refers to the ability to define multiple methods with the same name but different parameters within the same class.\n",
        "\n",
        "12. What is method overriding in OOP?\n",
        " -  Method overloading in python means rewriting method of parent class in child class.\n",
        "\n",
        "13. What is a property decorator in Python?\n",
        " - Property decorator is a built-in decorator that allows you to define methods that can be accessed as if they were attributes. This means you can get and set the values of these methods just like regular attributes, but with additional control and functionality.\n",
        "\n",
        "14. Why is polymorphism important in OOP?\n",
        " - Polymorphism is important in OOPs as it simplifies code, creates re-usability, method overriding and helps with inheritance and asbtraction.\n",
        "\n",
        "15. What is an abstract class in Python?\n",
        " - An aabstract class cannot be instantiated,w hcih means you cannot create object of this class. It can ony be used for inherriting the functionalities.\n",
        "\n",
        "16. What are the advantages of OOP?\n",
        " - OOPs usses a familiar interface for multiple forms(data types). In simple terms, we understand a task can be performed in various ways.\n",
        "\n",
        "17. What is multiple inheritance in Python?\n",
        " - Multiple inheritance in Python is a feature that allows a class to inherit from more than one parent class. This means that the child class can inherit attributes and methods from multiple base classes.\n",
        "\n",
        "18. What is the difference between a class variable and an instance variable?\n",
        " - Class Variable is a variable that defines a specific attribute or property for a class. These variables can be shared between class and its subclasses.\n",
        "\n",
        " Instance variable is a variable whose value is instance-specific and now shared among instances. These variables cannot be shared between classes. Instead, they only belong to one specific class.  \n",
        "\n",
        "19. Explain the purpose of ‘’__str__’ and ‘__repr__’ ‘ methods in Python.\n",
        " - __str__  Intended for creating a human-readable representation of an object. It should be concise and easily understandable for end-users.\n",
        " __repr__ Intended for creating a detailed and unambiguous representation of an object, primarily for developers. It should ideally provide enough information to recreate the object.\n",
        "\n",
        "20. What is the significance of the ‘super()’ function in Python?\n",
        " - In Python, super() is a built-in function that allows access to methods and properties of a parent or superclass from a child or subclass. This is useful when working with inheritance in object-oriented programming.\n",
        "\n",
        "21. What is the significance of the __del__ method in Python?\n",
        " - The del keyword is used to delete objects. In Python everything is an object, so the del keyword can also be used to delete variables, lists, or parts of a list etc.\n",
        "\n",
        "22. What is the difference between @staticmethod and @classmethod in Python?\n",
        " - Class methods can access and modify class-level attributes. They have access to the class object and can modify class variables or create new instances of the class. Static methods, on the other hand, do not have access to the class object and cannot modify any class-level attributes.\n",
        "\n",
        "23. How does polymorphism work in Python with inheritance?\n",
        " - Polymorphism is a foundational concept in programming that allows entities like functions, methods or operators to behave differently based on the type of data they are handling. Derived from Greek, the term literally means “many forms”.\n",
        "\n",
        "24. What is method chaining in Python OOP?\n",
        " - Method chaining in Python is a technique where you call multiple methods on an object in a single line of code. This is achieved by having each method return the object itself (typically using return self), allowing you to chain method calls together.\n",
        "\n",
        "25. What is the purpose of the __call__ method in Python?\n",
        " - The __call__ method is part of Python build-in methods also called dunder or magic methods because have two prefixes and suffix underscores in the method name. The main idea of __call__ method is to write a class and invoke it like a function. You can refer to it as callable object"
      ],
      "metadata": {
        "id": "0bZ21O9C4KQD"
      }
    },
    {
      "cell_type": "code",
      "source": [
        "# Create a parent class Animal with a method speak() that prints a generic message. Create a child class Dog that overrides the speak() method to print \"Bark!\".\n",
        "class Animal:\n",
        "    def speak(self):\n",
        "        print(\"Animal speaks\")\n",
        "\n",
        "class Dog(Animal):\n",
        "    def speak(self):\n",
        "        print(\"Bark!\")\n"
      ],
      "metadata": {
        "id": "-ArB15ZI3j3F"
      },
      "execution_count": 2,
      "outputs": []
    },
    {
      "cell_type": "code",
      "source": [
        "cat = Dog()\n",
        "cat.speak()"
      ],
      "metadata": {
        "colab": {
          "base_uri": "https://localhost:8080/"
        },
        "id": "WgqqzZ013ssR",
        "outputId": "3d1e084d-db39-4e16-bf8d-c6ef8c00f66a"
      },
      "execution_count": 5,
      "outputs": [
        {
          "output_type": "stream",
          "name": "stdout",
          "text": [
            "Bark!\n"
          ]
        }
      ]
    },
    {
      "cell_type": "code",
      "source": [
        "#  Write a program to create an abstract class Shape with a method area(). Derive classes Circle and Rectangle from it and implement the area() method in both\n",
        "class Shape:\n",
        "    def area(self):\n",
        "        print(\"Shape Area\")\n",
        "\n",
        "class Circle(Shape):\n",
        "    def area(self):\n",
        "        print(\"Circle Area\")\n",
        "\n",
        "class Rectangle(Shape):\n",
        "    def area(self):\n",
        "        print(\"Rectangle Area\")\n"
      ],
      "metadata": {
        "id": "7lncvPu932Qp"
      },
      "execution_count": 6,
      "outputs": []
    },
    {
      "cell_type": "code",
      "source": [
        "fall=Circle()\n",
        "fall.area()"
      ],
      "metadata": {
        "colab": {
          "base_uri": "https://localhost:8080/"
        },
        "id": "ZWO6PxjU4knc",
        "outputId": "2c02d615-5371-4fb3-a4c5-21713058210a"
      },
      "execution_count": 8,
      "outputs": [
        {
          "output_type": "stream",
          "name": "stdout",
          "text": [
            "Circle Area\n"
          ]
        }
      ]
    },
    {
      "cell_type": "code",
      "source": [
        "#Implement a multi-level inheritance scenario where a class Vehicle has an attribute type.Derive a class Car and further derive a class ElectricCar, adds a battery attribute.\n",
        "class Vehicle:\n",
        "    def __init__(self, vehicle_type):\n",
        "        self.type = vehicle_type\n",
        "\n",
        "    def describe(self):\n",
        "        return f\"This is a {self.type}.\"\n",
        "\n",
        "\n",
        "class Car(Vehicle):\n",
        "    def __init__(self, vehicle_type, brand):\n",
        "        super().__init__(vehicle_type)\n",
        "        self.brand = brand\n",
        "\n",
        "    def describe(self):\n",
        "        return f\"This is a {self.type} made by {self.brand}.\"\n",
        "class ElectricCar(Car):\n",
        "    def __init__(self, vehicle_type, brand, battery_capacity):\n",
        "        super().__init__(vehicle_type, brand)\n",
        "        self.battery_capacity = battery_capacity\n",
        "\n",
        "    def describe(self):\n",
        "        return f\"This is a {self.type} made by {self.brand} with a {self.battery_capacity} kWh battery.\"\n",
        "\n",
        "\n",
        "if __name__ == \"__main__\":\n",
        "\n",
        "    vehicle = Vehicle(\"Generic Vehicle\")\n",
        "    print(vehicle.describe())\n",
        "    car = Car(\"Car\", \"Toyota\")\n",
        "    print(car.describe())\n",
        "    electric_car = ElectricCar(\"Electric Car\", \"Tesla\", 75)\n",
        "    print(electric_car.describe())"
      ],
      "metadata": {
        "colab": {
          "base_uri": "https://localhost:8080/"
        },
        "id": "8n7mCw1b4sbd",
        "outputId": "4a440c6b-6511-4e2c-feeb-3026f7e4b390"
      },
      "execution_count": 10,
      "outputs": [
        {
          "output_type": "stream",
          "name": "stdout",
          "text": [
            "This is a Generic Vehicle.\n",
            "This is a Car made by Toyota.\n",
            "This is a Electric Car made by Tesla with a 75 kWh battery.\n"
          ]
        }
      ]
    },
    {
      "cell_type": "code",
      "source": [
        "##Implement a multi-level inheritance scenario where a class Vehicle has an attribute type.Derive a class Car and further derive a class ElectricCar, adds a battery attribute.\n",
        "class Vehicle:\n",
        "    def __init__(self, vehicle_type):\n",
        "        self.type = vehicle_type\n",
        "\n",
        "    def describe(self):\n",
        "        return f\"This is a {self.type}.\"\n",
        "\n",
        "\n",
        "class Car(Vehicle):\n",
        "    def __init__(self, vehicle_type, brand):\n",
        "        super().__init__(vehicle_type)\n",
        "        self.brand = brand\n",
        "\n",
        "    def describe(self):\n",
        "        return f\"This is a {self.type} made by {self.brand}.\"\n",
        "class ElectricCar(Car):\n",
        "    def __init__(self, vehicle_type, brand, battery_capacity):\n",
        "        super().__init__(vehicle_type, brand)\n",
        "        self.battery_capacity = battery_capacity\n",
        "\n",
        "    def describe(self):\n",
        "        return f\"This is a {self.type} made by {self.brand} with a {self.battery_capacity} kWh battery.\"\n",
        "\n",
        "\n",
        "if __name__ == \"__main__\":\n",
        "\n",
        "    vehicle = Vehicle(\"Generic Vehicle\")\n",
        "    print(vehicle.describe())\n",
        "    car = Car(\"Car\", \"Toyota\")\n",
        "    print(car.describe())\n",
        "    electric_car = ElectricCar(\"Electric Car\", \"Tesla\", 75)\n",
        "    print(electric_car.describe())"
      ],
      "metadata": {
        "colab": {
          "base_uri": "https://localhost:8080/"
        },
        "id": "K9k1sn225KY4",
        "outputId": "4515b733-882e-4787-ea27-875b62452171"
      },
      "execution_count": 11,
      "outputs": [
        {
          "output_type": "stream",
          "name": "stdout",
          "text": [
            "This is a Generic Vehicle.\n",
            "This is a Car made by Toyota.\n",
            "This is a Electric Car made by Tesla with a 75 kWh battery.\n"
          ]
        }
      ]
    },
    {
      "cell_type": "code",
      "source": [
        "# Write a program to demonstrate encapsulation by creating a class BankAccount with private attributes balance and methods to deposit, withdraw, and check balance.\n",
        "class BankAccount:\n",
        "    def __init__(self, initial_balance=0):\n",
        "        self.__balance = initial_balance\n",
        "\n",
        "    def deposit(self, amount):\n",
        "        if amount > 0:\n",
        "            self.__balance += amount\n",
        "            print(f\"Deposited: {amount}\")\n",
        "        else:\n",
        "            print(\"Deposit amount must be positive.\")\n",
        "\n",
        "    def withdraw(self, amount):\n",
        "        if 0 < amount <= self.__balance:\n",
        "            self.__balance -= amount\n",
        "            print(f\"Withdrawn: {amount}\")\n",
        "        else:\n",
        "            print(\"Invalid withdrawal amount.\")\n",
        "\n",
        "    def check_balance(self):\n",
        "        return self.__balance\n",
        "if __name__ == \"__main__\":\n",
        "    account = BankAccount(100)\n",
        "    account.deposit(50)\n",
        "    account.withdraw(30)\n",
        "    print(f\"Current Balance: {account.check_balance()}\")\n"
      ],
      "metadata": {
        "colab": {
          "base_uri": "https://localhost:8080/"
        },
        "id": "cAQlXOzb67US",
        "outputId": "615383eb-0698-4c97-a3d7-ea5260a580a1"
      },
      "execution_count": 13,
      "outputs": [
        {
          "output_type": "stream",
          "name": "stdout",
          "text": [
            "Deposited: 50\n",
            "Withdrawn: 30\n",
            "Current Balance: 120\n"
          ]
        }
      ]
    },
    {
      "cell_type": "code",
      "source": [
        "# . Demonstrate runtime polymorphism using a method play() in a base class Instrument. Derive classes Guitar and Piano that implement their own version of play().\n",
        "class Instrument:\n",
        "    def play(self):\n",
        "        print(\"Instrument is playing\")\n",
        "\n",
        "class Guitar(Instrument):\n",
        "    def play(self):\n",
        "        print(\"Guitar is playing\")\n",
        "\n",
        "class Piano(Instrument):\n",
        "    def play(self):\n",
        "        print(\"Piano is playing\")"
      ],
      "metadata": {
        "id": "0HwXLzlZ7qIF"
      },
      "execution_count": 14,
      "outputs": []
    },
    {
      "cell_type": "code",
      "source": [
        "flute=Guitar()\n",
        "flute.play()"
      ],
      "metadata": {
        "colab": {
          "base_uri": "https://localhost:8080/"
        },
        "id": "tKPUlbCR8B4V",
        "outputId": "0d3a182d-d54a-4557-b379-fa9172b26ef4"
      },
      "execution_count": 15,
      "outputs": [
        {
          "output_type": "stream",
          "name": "stdout",
          "text": [
            "Guitar is playing\n"
          ]
        }
      ]
    },
    {
      "cell_type": "code",
      "source": [
        "# Create a class MathOperations with a class method add_numbers() to add two numbers and a static method subtract_numbers() to subtract two numbers.\n",
        "class MathOperations:\n",
        "    @classmethod\n",
        "    def add_numbers(cls, a, b):\n",
        "        return a + b\n",
        "\n",
        "    @staticmethod\n",
        "    def subtract_numbers(a, b):\n",
        "        return a - b"
      ],
      "metadata": {
        "id": "DN9mlrWg8Qc1"
      },
      "execution_count": 16,
      "outputs": []
    },
    {
      "cell_type": "code",
      "source": [
        "multiply=MathOperations.add_numbers(2,3)\n",
        "multiply"
      ],
      "metadata": {
        "colab": {
          "base_uri": "https://localhost:8080/"
        },
        "id": "xJ404rWw8c4h",
        "outputId": "7f817787-a95b-45a7-95c3-596051774288"
      },
      "execution_count": 17,
      "outputs": [
        {
          "output_type": "execute_result",
          "data": {
            "text/plain": [
              "5"
            ]
          },
          "metadata": {},
          "execution_count": 17
        }
      ]
    },
    {
      "cell_type": "code",
      "source": [
        "# Implement a class Person with a class method to count the total number of persons created.\n",
        "class Person:\n",
        "    count = 10\n",
        "\n",
        "    def __init__(self, name):\n",
        "        self.name = name\n",
        "        Person.count += 1\n",
        "\n",
        "    @classmethod\n",
        "    def get_total_persons(cls):\n",
        "        return cls.count"
      ],
      "metadata": {
        "id": "miYjClku8lLX"
      },
      "execution_count": 25,
      "outputs": []
    },
    {
      "cell_type": "code",
      "source": [
        "count=Person.get_total_persons()\n",
        "count"
      ],
      "metadata": {
        "colab": {
          "base_uri": "https://localhost:8080/"
        },
        "id": "BNcuOYjI8taM",
        "outputId": "fc1af891-8a9c-4abe-f3e0-26e9ff65dc0e"
      },
      "execution_count": 26,
      "outputs": [
        {
          "output_type": "execute_result",
          "data": {
            "text/plain": [
              "10"
            ]
          },
          "metadata": {},
          "execution_count": 26
        }
      ]
    },
    {
      "cell_type": "code",
      "source": [
        "# Write a class Fraction with attributes numerator and denominator. Override the str method to display the fraction as \"numerator/denominator\n",
        "class Fraction:\n",
        "    def __init__(self, numerator, denominator):\n",
        "        self.numerator = numerator\n",
        "        self.denominator = denominator\n",
        "\n",
        "    def __str__(self):\n",
        "        return f\"{self.numerator}/{self.denominator}\""
      ],
      "metadata": {
        "id": "Ive1Cbm18yjD"
      },
      "execution_count": 29,
      "outputs": []
    },
    {
      "cell_type": "code",
      "source": [
        "bam=Fraction(2,3)\n",
        "print(bam)"
      ],
      "metadata": {
        "colab": {
          "base_uri": "https://localhost:8080/"
        },
        "id": "E9mzLPB79o60",
        "outputId": "3d88c53d-51ba-4cbe-95aa-d2d9c60e3c13"
      },
      "execution_count": 28,
      "outputs": [
        {
          "output_type": "stream",
          "name": "stdout",
          "text": [
            "2/3\n"
          ]
        }
      ]
    },
    {
      "cell_type": "code",
      "source": [
        "# Demonstrate operator overloading by creating a class Vector and overriding the add method to add two vectors.\n",
        "class Vector:\n",
        "    def __init__(self, x, y):\n",
        "        self.x = x\n",
        "        self.y = y\n",
        "\n",
        "    def __add__(self, other):\n",
        "        if isinstance(other, Vector):\n",
        "            return Vector(self.x + other.x, self.y + other.y)\n",
        "        else:\n",
        "            raise TypeError(\"Operands must be of type 'Vector'\")\n",
        "\n",
        "    def __str__(self):\n",
        "        return f\"Vector({self.x}, {self.y})\"\n",
        "if __name__ == \"__main__\":\n",
        "\n",
        "    v1 = Vector(2, 3)\n",
        "    v2 = Vector(4, 5)\n",
        "\n",
        "    v3 = v1 + v2\n",
        "    print(v3)\n"
      ],
      "metadata": {
        "colab": {
          "base_uri": "https://localhost:8080/"
        },
        "id": "RkDKva-29td_",
        "outputId": "0540c486-b4d4-44ee-9db6-d8ee8720d764"
      },
      "execution_count": 30,
      "outputs": [
        {
          "output_type": "stream",
          "name": "stdout",
          "text": [
            "Vector(6, 8)\n"
          ]
        }
      ]
    },
    {
      "cell_type": "code",
      "source": [
        "# Create a class Person with attributes name and age. Add a method greet() that prints \"Hello, my name is {name} and I am {age} years old.\n",
        "class Person:\n",
        "    def __init__(self, name, age):\n",
        "        self.name = name\n",
        "        self.age = age\n",
        "\n",
        "    def greet(self):\n",
        "        print(f\"Hello, my name is {self.name} and I am {self.age} years old.\")\n",
        ""
      ],
      "metadata": {
        "id": "jIoQGiUe-wFm"
      },
      "execution_count": 38,
      "outputs": []
    },
    {
      "cell_type": "code",
      "source": [
        "#  Implement a class Student with attributes name and grades. Create a method average_grade() to compute the average of the grades.\n",
        "class Student:\n",
        "    def __init__(self, name, grades):\n",
        "\n",
        "        self.name = name\n",
        "        self.grades = grades\n",
        "\n",
        "    def average_grade(self):\n",
        "\n",
        "        if self.grades:\n",
        "            return sum(self.grades) / len(self.grades)\n",
        "        else:\n",
        "            return 0\n",
        "if __name__ == \"__main__\":\n",
        "    student = Student(\"Alice\", [80, 90, 85, 95])\n",
        "    average = student.average_grade()\n",
        "    print(f\"{student.name}'s average grade is: {average}\")"
      ],
      "metadata": {
        "colab": {
          "base_uri": "https://localhost:8080/"
        },
        "id": "a96lldPZAS6n",
        "outputId": "08a5c675-26b7-4479-872e-5bbc9d4c7607"
      },
      "execution_count": 49,
      "outputs": [
        {
          "output_type": "stream",
          "name": "stdout",
          "text": [
            "Alice's average grade is: 87.5\n"
          ]
        }
      ]
    },
    {
      "cell_type": "code",
      "source": [
        "#  Create a class Rectangle with methods set_dimensions() to set the dimensions and area() to calculate the area.\n",
        "class Rectangle:\n",
        "    def __init__(self):\n",
        "        self.length = 0\n",
        "        self.width = 0\n",
        "\n",
        "    def set_dimensions(self, length, width):\n",
        "        \"\"\"Set the dimensions of the rectangle.\"\"\"\n",
        "        if length <= 0 or width <= 0:\n",
        "            raise ValueError(\"Length and width must be positive values.\")\n",
        "        self.length = length\n",
        "        self.width = width\n",
        "\n",
        "    def area(self):\n",
        "        \"\"\"Calculate and return the area of the rectangle.\"\"\"\n",
        "        return self.length * self.width\n",
        "\n",
        "rect = Rectangle()\n",
        "rect.set_dimensions(5, 3)\n",
        "print(\"Area:\", rect.area())"
      ],
      "metadata": {
        "colab": {
          "base_uri": "https://localhost:8080/"
        },
        "id": "GiBil8P6BZir",
        "outputId": "3d268de0-ebdb-4450-9bd1-a93e3a2ba130"
      },
      "execution_count": 51,
      "outputs": [
        {
          "output_type": "stream",
          "name": "stdout",
          "text": [
            "Area: 15\n"
          ]
        }
      ]
    },
    {
      "cell_type": "code",
      "source": [
        "'''\n",
        "  Create a class Employee with a method calculate_salary() that computes the salary based on hours worked and hourly rate.\n",
        "Create a derived class Manager that adds a bonus to the salary.\n",
        "'''\n",
        "class Employee:\n",
        "    def __init__(self, name):\n",
        "        self.name = name\n",
        "        self.hours_worked = 0\n",
        "        self.hourly_rate = 0\n",
        "\n",
        "    def set_details(self, hours_worked, hourly_rate):\n",
        "        \"\"\"Set the hours worked and hourly rate.\"\"\"\n",
        "        if hours_worked < 0 or hourly_rate < 0:\n",
        "            raise ValueError(\"Hours worked and hourly rate must be non-negative.\")\n",
        "        self.hours_worked = hours_worked\n",
        "        self.hourly_rate = hourly_rate\n",
        "\n",
        "    def calculate_salary(self):\n",
        "        \"\"\"Calculate and return the salary.\"\"\"\n",
        "        return self.hours_worked * self.hourly_rate\n",
        "\n",
        "class Manager(Employee):\n",
        "    def __init__(self, name, bonus):\n",
        "        super().__init__(name)\n",
        "        self.bonus = bonus\n",
        "\n",
        "    def calculate_salary(self):\n",
        "        \"\"\"Calculate and return the salary with the bonus.\"\"\"\n",
        "        base_salary = super().calculate_salary()\n",
        "        return base_salary + self.bonus\n",
        "\n",
        "\n",
        "rect = Rectangle()\n",
        "rect.set_dimensions(5, 3)\n",
        "print(\"Area:\", rect.area())\n",
        "\n",
        "employee = Employee(\"John\")\n",
        "employee.set_details(40, 20)\n",
        "print(f\"Salary of {employee.name}:\", employee.calculate_salary())\n",
        "\n",
        "manager = Manager(\"Alice\", 500)\n",
        "manager.set_details(40, 30)\n",
        "print(f\"Salary of {manager.name}:\", manager.calculate_salary())\n"
      ],
      "metadata": {
        "colab": {
          "base_uri": "https://localhost:8080/"
        },
        "id": "Zns5a6i9It_x",
        "outputId": "c5bee72f-b9c7-4245-8554-976a0694a26b"
      },
      "execution_count": 53,
      "outputs": [
        {
          "output_type": "stream",
          "name": "stdout",
          "text": [
            "Area: 15\n",
            "Salary of John: 800\n",
            "Salary of Alice: 1700\n"
          ]
        }
      ]
    },
    {
      "cell_type": "code",
      "source": [
        "# Create a class Product with attributes name, price, and quantity. Implement a method total_price() that calculates the total price of the product.\n",
        "class Product:\n",
        "    def __init__(self, name, price, quantity):\n",
        "        self.name = name\n",
        "        self.price = price\n",
        "        self.quantity = quantity\n",
        "\n",
        "    def total_price(self):\n",
        "        \"\"\"Calculate and return the total price of the product.\"\"\"\n",
        "        if self.price < 0 or self.quantity < 0:\n",
        "            raise ValueError(\"Price and quantity must be non-negative.\")\n",
        "        return self.price * self.quantity"
      ],
      "metadata": {
        "id": "nVEOp9ZsJOiu"
      },
      "execution_count": 54,
      "outputs": []
    },
    {
      "cell_type": "code",
      "source": [
        "product = Product(\"Laptop\", 1000, 3)\n",
        "print(f\"Total price of {product.name}:\", product.total_price())"
      ],
      "metadata": {
        "colab": {
          "base_uri": "https://localhost:8080/"
        },
        "id": "K22z7wAIJ-HU",
        "outputId": "8f937e9f-a36f-473f-9f05-09a775924b27"
      },
      "execution_count": 55,
      "outputs": [
        {
          "output_type": "stream",
          "name": "stdout",
          "text": [
            "Total price of Laptop: 3000\n"
          ]
        }
      ]
    },
    {
      "cell_type": "code",
      "source": [
        "# Create a class Animal with an abstract method sound(). Create two derived classes Cow and Sheep that implement the sound() method.\n",
        "from abc import ABC, abstractmethod\n",
        "\n",
        "class Animal(ABC):\n",
        "    @abstractmethod\n",
        "    def sound(self):\n",
        "        \"\"\"Abstract method for producing a sound\"\"\"\n",
        "        pass\n",
        "\n",
        "class Cow(Animal):\n",
        "    def sound(self):\n",
        "        return \"Moo\"\n",
        "\n",
        "class Sheep(Animal):\n",
        "    def sound(self):\n",
        "        return \"Baa\"\n",
        "\n",
        "if __name__ == \"__main__\":\n",
        "    cow = Cow()\n",
        "    sheep = Sheep()\n",
        "    print(f\"Cow sound: {cow.sound()}\")\n",
        "    print(f\"Sheep sound: {sheep.sound()}\")"
      ],
      "metadata": {
        "colab": {
          "base_uri": "https://localhost:8080/"
        },
        "id": "XDmoC11hKI1H",
        "outputId": "60cb7f8b-778d-44d8-f8b5-34c19b3d272a"
      },
      "execution_count": 56,
      "outputs": [
        {
          "output_type": "stream",
          "name": "stdout",
          "text": [
            "Cow sound: Moo\n",
            "Sheep sound: Baa\n"
          ]
        }
      ]
    },
    {
      "cell_type": "code",
      "source": [
        "#  Create a class Book with attributes title, author, and year_published. Add a method get_book_info() that returns a formatted string with the book's details.\n",
        "class Book:\n",
        "    def __init__(self, title, author, year_published):\n",
        "        \"\"\"Initialize the attributes of the book.\"\"\"\n",
        "        self.title = title\n",
        "        self.author = author\n",
        "        self.year_published = year_published\n",
        "\n",
        "    def get_book_info(self):\n",
        "        \"\"\"Return a formatted string with the book's details.\"\"\"\n",
        "        return f\"'{self.title}' by {self.author} (Published: {self.year_published})\"\n",
        "\n",
        "if __name__ == \"__main__\":\n",
        "    book = Book(\"To Kill a Mockingbird\", \"Harper Lee\", 1960)\n",
        "    print(book.get_book_info())"
      ],
      "metadata": {
        "colab": {
          "base_uri": "https://localhost:8080/"
        },
        "id": "Lctglxi9KeDI",
        "outputId": "1b4a169c-ba05-4a28-bf56-80e52f756b62"
      },
      "execution_count": 57,
      "outputs": [
        {
          "output_type": "stream",
          "name": "stdout",
          "text": [
            "'To Kill a Mockingbird' by Harper Lee (Published: 1960)\n"
          ]
        }
      ]
    },
    {
      "cell_type": "code",
      "source": [
        "# . Create a class House with attributes address and price. Create a derived class Mansion that adds an attribute number_of_rooms.\n",
        "class House:\n",
        "    def __init__(self, address, price):\n",
        "        \"\"\"Initialize the attributes of the house.\"\"\"\n",
        "        self.address = address\n",
        "        self.price = price\n",
        "\n",
        "    def get_house_info(self):\n",
        "        \"\"\"Return a formatted string with the house's details.\"\"\"\n",
        "        return f\"Address: {self.address}, Price: ${self.price:,}\"\n",
        "\n",
        "class Mansion(House):\n",
        "    def __init__(self, address, price, number_of_rooms):\n",
        "        \"\"\"\n",
        "        Initialize the attributes of the mansion.\n",
        "        Inherits address and price from the House class and adds number_of_rooms.\n",
        "        \"\"\"\n",
        "        super().__init__(address, price)\n",
        "        self.number_of_rooms = number_of_rooms\n",
        "\n",
        "    def get_mansion_info(self):\n",
        "        \"\"\"Return a formatted string with the mansion's details.\"\"\"\n",
        "        house_info = self.get_house_info()\n",
        "        return f\"{house_info}, Number of Rooms: {self.number_of_rooms}\"\n",
        "\n",
        "if __name__ == \"__main__\":\n",
        "    house = House(\"123 Maple Street\", 250000)\n",
        "    print(house.get_house_info())\n",
        "\n",
        "    mansion = Mansion(\"456 Oak Avenue\", 1500000, 12)\n",
        "    print(mansion.get_mansion_info())"
      ],
      "metadata": {
        "colab": {
          "base_uri": "https://localhost:8080/"
        },
        "id": "Zz8kv2ZRLc3G",
        "outputId": "886acd79-12e1-442c-df52-c3f085e19b79"
      },
      "execution_count": 58,
      "outputs": [
        {
          "output_type": "stream",
          "name": "stdout",
          "text": [
            "Address: 123 Maple Street, Price: $250,000\n",
            "Address: 456 Oak Avenue, Price: $1,500,000, Number of Rooms: 12\n"
          ]
        }
      ]
    },
    {
      "cell_type": "code",
      "source": [],
      "metadata": {
        "id": "NfMSAIPjMEia"
      },
      "execution_count": null,
      "outputs": []
    }
  ]
}